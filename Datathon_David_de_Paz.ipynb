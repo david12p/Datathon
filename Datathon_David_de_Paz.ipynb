{
  "nbformat": 4,
  "nbformat_minor": 0,
  "metadata": {
    "colab": {
      "provenance": [],
      "authorship_tag": "ABX9TyMbCoHglzQCINfhMrjtRPV9",
      "include_colab_link": true
    },
    "kernelspec": {
      "name": "python3",
      "display_name": "Python 3"
    },
    "language_info": {
      "name": "python"
    }
  },
  "cells": [
    {
      "cell_type": "markdown",
      "metadata": {
        "id": "view-in-github",
        "colab_type": "text"
      },
      "source": [
        "<a href=\"https://colab.research.google.com/github/david12p/Datathon/blob/main/Datathon_David_de_Paz.ipynb\" target=\"_parent\"><img src=\"https://colab.research.google.com/assets/colab-badge.svg\" alt=\"Open In Colab\"/></a>"
      ]
    },
    {
      "cell_type": "code",
      "execution_count": null,
      "metadata": {
        "colab": {
          "base_uri": "https://localhost:8080/"
        },
        "id": "z_xKhIUDOTk5",
        "outputId": "c38fedac-337b-456f-b972-20011ff007d6"
      },
      "outputs": [
        {
          "output_type": "stream",
          "name": "stdout",
          "text": [
            "Collecting mysql.connector\n",
            "  Downloading mysql-connector-2.2.9.tar.gz (11.9 MB)\n",
            "\u001b[2K     \u001b[90m━━━━━━━━━━━━━━━━━━━━━━━━━━━━━━━━━━━━━━━━\u001b[0m \u001b[32m11.9/11.9 MB\u001b[0m \u001b[31m37.0 MB/s\u001b[0m eta \u001b[36m0:00:00\u001b[0m\n",
            "\u001b[?25h  Preparing metadata (setup.py) ... \u001b[?25l\u001b[?25hdone\n",
            "Building wheels for collected packages: mysql.connector\n",
            "  Building wheel for mysql.connector (setup.py) ... \u001b[?25l\u001b[?25hdone\n",
            "  Created wheel for mysql.connector: filename=mysql_connector-2.2.9-cp310-cp310-linux_x86_64.whl size=247953 sha256=2580af30e3366d29cde735ae92b644ecb7c3dd8a7694d88be88b8646e4c72f7e\n",
            "  Stored in directory: /root/.cache/pip/wheels/76/48/9b/da67ff1a18fe8e9d428f9b1a177716d4a7d363d2bbe83bf6cf\n",
            "Successfully built mysql.connector\n",
            "Installing collected packages: mysql.connector\n",
            "Successfully installed mysql.connector-2.2.9\n"
          ]
        }
      ],
      "source": [
        "!pip install mysql.connector\n",
        "\n",
        "import xlrd\n",
        "import mysql.connector\n",
        "import pandas as pd\n"
      ]
    },
    {
      "cell_type": "code",
      "source": [
        "#Celda oculta para github con las credenciales para la conexión a la bbdd"
      ],
      "metadata": {
        "id": "tOAWiI_DTLs5"
      },
      "execution_count": null,
      "outputs": []
    },
    {
      "cell_type": "code",
      "source": [
        "nombre_base_datos = \"datathon\"\n",
        "nombre_tabla_ventas = \"ventas\"\n",
        "nombre_tabla_calendario = \"calendario\"\n",
        "nombre_tabla_pedidos = \"pedidos\"\n",
        "\n",
        "cursor = conexion.cursor()\n",
        "\n",
        "cursor.execute(f\"USE {nombre_base_datos}\")"
      ],
      "metadata": {
        "id": "v9pnhK-JTQMo"
      },
      "execution_count": null,
      "outputs": []
    },
    {
      "cell_type": "code",
      "source": [
        "cursor.execute(f\"DROP TABLE IF EXISTS {nombre_tabla_ventas}\")\n",
        "cursor.execute(f\"CREATE TABLE IF NOT EXISTS {nombre_tabla_ventas} (\"\n",
        "               \"FAMILIA VARCHAR(255),\"\n",
        "               \"Tipo VARCHAR(255),\"\n",
        "               \"FechaVenta DATE,\"\n",
        "               \"HoraVenta INT,\"\n",
        "               \"Articulo VARCHAR(255),\"\n",
        "               \"Cantidad FLOAT,\"\n",
        "               \"Precio FLOAT,\"\n",
        "               \"Importe FLOAT\"\n",
        "               \")\")"
      ],
      "metadata": {
        "id": "zMMELw4leZlD"
      },
      "execution_count": null,
      "outputs": []
    },
    {
      "cell_type": "code",
      "source": [
        "cursor.execute(f\"DROP TABLE IF EXISTS {nombre_tabla_calendario}\")\n",
        "cursor.execute(f\"CREATE TABLE IF NOT EXISTS {nombre_tabla_calendario} (\"\n",
        "               \"Fecha DATE,\"\n",
        "               \"Festivo VARCHAR(255)\"\n",
        "               \")\")"
      ],
      "metadata": {
        "id": "-EFXUcIfeaea"
      },
      "execution_count": null,
      "outputs": []
    },
    {
      "cell_type": "code",
      "source": [
        "cursor.execute(f\"DROP TABLE IF EXISTS {nombre_tabla_pedidos}\")\n",
        "cursor.execute(f\"CREATE TABLE IF NOT EXISTS {nombre_tabla_pedidos} (\"\n",
        "               \"Tipo VARCHAR(255),\"\n",
        "               \"Fecha DATE,\"\n",
        "               \"Articulo VARCHAR(255),\"\n",
        "               \"Cantidad FLOAT,\"\n",
        "               \"Precio FLOAT,\"\n",
        "               \"Importe FLOAT\"\n",
        "               \")\")"
      ],
      "metadata": {
        "id": "ivIsDyC5ecxJ"
      },
      "execution_count": null,
      "outputs": []
    },
    {
      "cell_type": "code",
      "source": [
        "# Cargar el archivo Excel en Colab\n",
        "nombre_archivo_ventas = \"ArticulosPanaderia.xlsx\"\n",
        "\n",
        "# Abrir el archivo Excel\n",
        "df = pd.read_excel(nombre_archivo_ventas)"
      ],
      "metadata": {
        "id": "h5SfCE3Eekfp"
      },
      "execution_count": null,
      "outputs": []
    },
    {
      "cell_type": "code",
      "source": [
        "# Preparar los datos para la inserción en lotes\n",
        "registros = []\n",
        "for _, row in df.iterrows():\n",
        "    familia = row['FAMILIA']\n",
        "    tipo = row['Tipo']\n",
        "    fecha_venta = row['FechaVenta'].strftime('%Y-%m-%d')\n",
        "    hora_venta = row['HoraVenta']\n",
        "    articulo = row['Articulo']\n",
        "    cantidad = row['Cantidad']\n",
        "    precio = row['Precio']\n",
        "    importe = row['Importe']\n",
        "    registros.append((familia, tipo, fecha_venta, hora_venta, articulo, cantidad, precio, importe))\n",
        "\n",
        "# Crear la consulta SQL para insertar los datos en la tabla\n",
        "consulta = f\"INSERT INTO {nombre_tabla_ventas} (FAMILIA, Tipo, FechaVenta, HoraVenta, Articulo, Cantidad, Precio, Importe) \" \\\n",
        "           \"VALUES (%s, %s, %s, %s, %s, %s, %s, %s)\"\n",
        "\n",
        "# Ejecutar la consulta con la lista de registros en lotes\n",
        "tamano_lote = 1000\n",
        "for i in range(0, len(registros), tamano_lote):\n",
        "    lote_registros = registros[i:i + tamano_lote]\n",
        "    cursor = conexion.cursor()\n",
        "    cursor.executemany(consulta, lote_registros)\n",
        "    conexion.commit()"
      ],
      "metadata": {
        "id": "Ovj-HpaSeqfB"
      },
      "execution_count": null,
      "outputs": []
    },
    {
      "cell_type": "code",
      "source": [
        "# Cargar el archivo Excel en Colab\n",
        "nombre_archivo_calendario = \"Calendario.xlsx\"\n",
        "\n",
        "# Abrir el archivo Excel\n",
        "df = pd.read_excel(nombre_archivo_calendario)\n",
        "\n",
        "# Preparar los datos para la inserción en lotes\n",
        "registros = []\n",
        "for _, row in df.iterrows():\n",
        "    fecha = row['Fecha'].strftime('%Y-%m-%d')\n",
        "    festivo = row['Festivo']\n",
        "    registros.append((fecha,festivo))\n",
        "\n",
        "# Crear la consulta SQL para insertar los datos en la tabla\n",
        "consulta = f\"INSERT INTO {nombre_tabla_calendario} (Fecha, Festivo) \" \\\n",
        "           \"VALUES (%s, %s)\"\n",
        "\n",
        "# Ejecutar la consulta con la lista de registros en lotes\n",
        "tamano_lote = 1000\n",
        "for i in range(0, len(registros), tamano_lote):\n",
        "    lote_registros = registros[i:i + tamano_lote]\n",
        "    cursor = conexion.cursor()\n",
        "    cursor.executemany(consulta, lote_registros)\n",
        "    conexion.commit()"
      ],
      "metadata": {
        "id": "OiWog-wyesVQ"
      },
      "execution_count": null,
      "outputs": []
    },
    {
      "cell_type": "code",
      "source": [
        "# Cargar el archivo Excel en Colab\n",
        "nombre_archivo_pedidos = \"CantidadPedida.xlsx\"\n",
        "\n",
        "# Abrir el archivo Excel\n",
        "df = pd.read_excel(nombre_archivo_pedidos)\n",
        "\n",
        "# Preparar los datos para la inserción en lotes\n",
        "registros = []\n",
        "for _, row in df.iterrows():\n",
        "    tipo = row['Tipo']\n",
        "    fecha_venta = row['Fecha'].strftime('%Y-%m-%d')\n",
        "    articulo = row['Articulo']\n",
        "    cantidad = row['Cantidad']\n",
        "    precio = row['Precio']\n",
        "    importe = row['Importe']\n",
        "    registros.append(( tipo, fecha_venta, articulo, cantidad, precio, importe))\n",
        "\n",
        "# Crear la consulta SQL para insertar los datos en la tabla\n",
        "consulta = f\"INSERT INTO {nombre_tabla_pedidos} (Tipo, Fecha, Articulo, Cantidad, Precio, Importe) \" \\\n",
        "           \"VALUES (%s, %s, %s, %s, %s, %s)\"\n",
        "\n",
        "# Ejecutar la consulta con la lista de registros en lotes\n",
        "tamano_lote = 1000\n",
        "for i in range(0, len(registros), tamano_lote):\n",
        "    lote_registros = registros[i:i + tamano_lote]\n",
        "    cursor = conexion.cursor()\n",
        "    cursor.executemany(consulta, lote_registros)\n",
        "    conexion.commit()"
      ],
      "metadata": {
        "id": "2BRYRKhMeudA"
      },
      "execution_count": null,
      "outputs": []
    },
    {
      "cell_type": "markdown",
      "source": [
        "Por aqui voy"
      ],
      "metadata": {
        "id": "vAWDNMLrabsv"
      }
    },
    {
      "cell_type": "code",
      "source": [
        "# Nota: las consultas siguientes están preparadas para lanzarse con los datos cargados en la bbdd data y con los nombres iniciales, si se lanzan con usuario1 debe adaptarse\n",
        "\n",
        "consulta_proceso=\"\"\"\n",
        "\n",
        "\n",
        "/*Ordenamos los productos por familia*/\n",
        "drop table if exists datathon.articulos_top;\n",
        "create table datathon.articulos_top as (\n",
        "\n",
        "\tselect\n",
        "\tArticulo,\n",
        "\tFAMILIA,\n",
        "\tsum(importe) as importe_total,\n",
        "\tROW_NUMBER () OVER(partition by FAMILIA order by sum(importe) desc) as orden\n",
        "\tfrom datathon.ventas\n",
        "\twhere FechaVenta >= '2021-05-01'\n",
        "\tgroup by 1,2\n",
        "\n",
        ");\n",
        "\n",
        "\n",
        "/*Creamos un calendario general del 1/1/2017 al 31/12/2023*/\n",
        "drop table if exists datathon.calendario_dias;\n",
        "create table datathon.calendario_dias as (\n",
        "\n",
        "with recursive cte_calendario as (\n",
        "\tselect date('2017-01-01') as calendar_date -- fecha de inicio\n",
        "\tunion all\n",
        "\tselect date_add(calendar_date, interval 1 day) as calendar_date from cte_calendario\n",
        "\twhere date_add(calendar_date, interval 1 day) <= date('2023-12-31') -- condicion de fin, fecha final\n",
        ")\n",
        "\n",
        "select\n",
        "calendar_date as fecha,\n",
        "year(calendar_date) as fx_anno,\n",
        "month(calendar_date) as fx_mes,\n",
        "day(calendar_date) as fx_day,\n",
        "date_format(calendar_date, '%Y%m') as fx_anno_mes,\n",
        "date_format(calendar_Date,'%x-%v') as semana -- formato\n",
        "from cte_calendario\n",
        "\n",
        ");\n",
        "\n",
        "/*Añadimos al calendario los festivos*/\n",
        "drop table if exists datathon.calendario_completo;\n",
        "create table datathon.calendario_completo as (\n",
        "select\n",
        "base.*,\n",
        "festivos.festivo\n",
        "from datathon.calendario_dias base\n",
        "left join\n",
        "\t(select\n",
        "\ta.*,\n",
        "\trow_number() over(partition by a.fecha order by a.festivo) as orden\n",
        "\tfrom datathon.calendario a\n",
        "\t) festivos\n",
        "on base.fecha=festivos.fecha\n",
        "and festivos.orden=1\n",
        ");\n",
        "\n",
        "/*Agregamos las ventas por día (quitamos el detalle por hora)*/\n",
        "\n",
        "/*Añadimos además el orden del producto y si está en el rango de fecha de estudio*/\n",
        "drop table if exists datathon.ventas_diarias;\n",
        "create table datathon.ventas_diarias as (\n",
        "select\n",
        "base.familia,\n",
        "base.tipo,\n",
        "base.fechaVenta,\n",
        "calendario.festivo,\n",
        "base.articulo,\n",
        "sum(base.precio*base.cantidad)/sum(base.cantidad) as precio, /* Se calcula como el precio promedio del día, ya que hay cambios de precio a lo largo del día*/\n",
        "articulos.orden as orden_articulo_familia,\n",
        "case when base.fechaVenta >=date('2021-05-01') then 'S' else 'N' end as in_fecha_estudio,\n",
        "sum(base.cantidad) as cantidad,\n",
        "sum(base.importe) as importe\n",
        "\n",
        "from datathon.ventas base\n",
        "\n",
        "inner join datathon.calendario_completo calendario\n",
        "on base.FechaVenta=calendario.fecha\n",
        "\n",
        "inner join datathon.articulos_top articulos\n",
        "on base.familia=articulos.familia\n",
        "and base.articulo=articulos.articulo\n",
        "\n",
        "\n",
        "group by 1,2,3,4,5,7,8);\n",
        "\n",
        "\n",
        "/*Creamos una vista final con el filtrado para el estudio*/\n",
        "drop view if exists datathon.ventas_diarias_estudio_completo;\n",
        "create view datathon.ventas_diarias_estudio_completo as\n",
        "(select *\n",
        "from datathon.ventas_diarias\n",
        "where tipo='VENTA'\n",
        "and in_fecha_estudio='S'\n",
        "and orden_articulo_familia<=5);\n",
        "\n",
        "\n",
        "/*Creamos una vista extra con el filtrado para el estudio que no tenga días de mayo 23 (que habrá que predecir)*/\n",
        "drop view if exists datathon.ventas_diarias_estudio;\n",
        "create view datathon.ventas_diarias_estudio as\n",
        "(select *\n",
        "from datathon.ventas_diarias\n",
        "where tipo='VENTA'\n",
        "and in_fecha_estudio='S'\n",
        "and fechaventa < date('2023-05-01')\n",
        "and orden_articulo_familia<=5);\n",
        "\"\"\""
      ],
      "metadata": {
        "id": "Zzd6J-IMewuY"
      },
      "execution_count": null,
      "outputs": []
    },
    {
      "cell_type": "code",
      "source": [
        "# Separar las consultas en una lista\n",
        "consultas_lista = consulta_proceso.split(\";\")\n",
        "\n",
        "# Eliminar espacios en blanco y elementos vacíos\n",
        "consultas_lista = [consulta.strip() for consulta in consultas_lista if consulta.strip()]\n",
        "\n",
        "# Ejecutar las consultas\n",
        "for consulta in consultas_lista:\n",
        "    cursor.execute(consulta)\n",
        "\n",
        "# Confirmar los cambios\n",
        "conexion.commit()"
      ],
      "metadata": {
        "id": "HTlxcU5faNqx"
      },
      "execution_count": null,
      "outputs": []
    },
    {
      "cell_type": "code",
      "source": [
        "# cursor.execute(f\"grant select on {nombre_base_datos}.ventas_diarias to usuario1\")\n",
        "# cursor.execute(f\"grant select on {nombre_base_datos}.ventas_diarias_estudio to usuario1\")"
      ],
      "metadata": {
        "id": "gZSRnClzaOno"
      },
      "execution_count": null,
      "outputs": []
    },
    {
      "cell_type": "code",
      "source": [
        "# Consultas adicionales por problema de permisos del usuario usuario1 en la base de datos data"
      ],
      "metadata": {
        "id": "c6QnTJZeaRYY"
      },
      "execution_count": null,
      "outputs": []
    },
    {
      "cell_type": "code",
      "source": [
        "cursor.execute(f\"drop table if exists classicmodels.ventas_diarias_estudio;\")"
      ],
      "metadata": {
        "id": "nafvSAcQaTnY"
      },
      "execution_count": null,
      "outputs": []
    },
    {
      "cell_type": "code",
      "source": [
        "cursor.execute(f\"CREATE TABLE classicmodels.ventas_diarias_estudio as SELECT * FROM {nombre_base_datos}.ventas_diarias_estudio\")"
      ],
      "metadata": {
        "id": "ru7dze3QaXzv"
      },
      "execution_count": null,
      "outputs": []
    }
  ]
}